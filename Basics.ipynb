{
 "cells": [
  {
   "cell_type": "markdown",
   "metadata": {
    "collapsed": true
   },
   "source": [
    "### The aim of this project is to clean the data and analyse the included used car listings"
   ]
  },
  {
   "cell_type": "code",
   "execution_count": 1,
   "metadata": {
    "collapsed": true
   },
   "outputs": [],
   "source": [
    "import pandas as pd\n",
    "import numpy as np\n",
    "import datetime as dt"
   ]
  },
  {
   "cell_type": "code",
   "execution_count": 2,
   "metadata": {
    "collapsed": false
   },
   "outputs": [],
   "source": [
    "autos = pd.read_csv(\"autos.csv\", encoding = \"Latin-1\")"
   ]
  },
  {
   "cell_type": "code",
   "execution_count": 3,
   "metadata": {
    "collapsed": false
   },
   "outputs": [
    {
     "name": "stdout",
     "output_type": "stream",
     "text": [
      "<class 'pandas.core.frame.DataFrame'>\n",
      "RangeIndex: 50000 entries, 0 to 49999\n",
      "Data columns (total 20 columns):\n",
      "dateCrawled            50000 non-null object\n",
      "name                   50000 non-null object\n",
      "seller                 50000 non-null object\n",
      "offerType              50000 non-null object\n",
      "price                  50000 non-null object\n",
      "abtest                 50000 non-null object\n",
      "vehicleType            44905 non-null object\n",
      "yearOfRegistration     50000 non-null int64\n",
      "gearbox                47320 non-null object\n",
      "powerPS                50000 non-null int64\n",
      "model                  47242 non-null object\n",
      "odometer               50000 non-null object\n",
      "monthOfRegistration    50000 non-null int64\n",
      "fuelType               45518 non-null object\n",
      "brand                  50000 non-null object\n",
      "notRepairedDamage      40171 non-null object\n",
      "dateCreated            50000 non-null object\n",
      "nrOfPictures           50000 non-null int64\n",
      "postalCode             50000 non-null int64\n",
      "lastSeen               50000 non-null object\n",
      "dtypes: int64(5), object(15)\n",
      "memory usage: 7.6+ MB\n"
     ]
    },
    {
     "data": {
      "text/html": [
       "<div>\n",
       "<style scoped>\n",
       "    .dataframe tbody tr th:only-of-type {\n",
       "        vertical-align: middle;\n",
       "    }\n",
       "\n",
       "    .dataframe tbody tr th {\n",
       "        vertical-align: top;\n",
       "    }\n",
       "\n",
       "    .dataframe thead th {\n",
       "        text-align: right;\n",
       "    }\n",
       "</style>\n",
       "<table border=\"1\" class=\"dataframe\">\n",
       "  <thead>\n",
       "    <tr style=\"text-align: right;\">\n",
       "      <th></th>\n",
       "      <th>dateCrawled</th>\n",
       "      <th>name</th>\n",
       "      <th>seller</th>\n",
       "      <th>offerType</th>\n",
       "      <th>price</th>\n",
       "      <th>abtest</th>\n",
       "      <th>vehicleType</th>\n",
       "      <th>yearOfRegistration</th>\n",
       "      <th>gearbox</th>\n",
       "      <th>powerPS</th>\n",
       "      <th>model</th>\n",
       "      <th>odometer</th>\n",
       "      <th>monthOfRegistration</th>\n",
       "      <th>fuelType</th>\n",
       "      <th>brand</th>\n",
       "      <th>notRepairedDamage</th>\n",
       "      <th>dateCreated</th>\n",
       "      <th>nrOfPictures</th>\n",
       "      <th>postalCode</th>\n",
       "      <th>lastSeen</th>\n",
       "    </tr>\n",
       "  </thead>\n",
       "  <tbody>\n",
       "    <tr>\n",
       "      <th>0</th>\n",
       "      <td>2016-03-26 17:47:46</td>\n",
       "      <td>Peugeot_807_160_NAVTECH_ON_BOARD</td>\n",
       "      <td>privat</td>\n",
       "      <td>Angebot</td>\n",
       "      <td>$5,000</td>\n",
       "      <td>control</td>\n",
       "      <td>bus</td>\n",
       "      <td>2004</td>\n",
       "      <td>manuell</td>\n",
       "      <td>158</td>\n",
       "      <td>andere</td>\n",
       "      <td>150,000km</td>\n",
       "      <td>3</td>\n",
       "      <td>lpg</td>\n",
       "      <td>peugeot</td>\n",
       "      <td>nein</td>\n",
       "      <td>2016-03-26 00:00:00</td>\n",
       "      <td>0</td>\n",
       "      <td>79588</td>\n",
       "      <td>2016-04-06 06:45:54</td>\n",
       "    </tr>\n",
       "    <tr>\n",
       "      <th>1</th>\n",
       "      <td>2016-04-04 13:38:56</td>\n",
       "      <td>BMW_740i_4_4_Liter_HAMANN_UMBAU_Mega_Optik</td>\n",
       "      <td>privat</td>\n",
       "      <td>Angebot</td>\n",
       "      <td>$8,500</td>\n",
       "      <td>control</td>\n",
       "      <td>limousine</td>\n",
       "      <td>1997</td>\n",
       "      <td>automatik</td>\n",
       "      <td>286</td>\n",
       "      <td>7er</td>\n",
       "      <td>150,000km</td>\n",
       "      <td>6</td>\n",
       "      <td>benzin</td>\n",
       "      <td>bmw</td>\n",
       "      <td>nein</td>\n",
       "      <td>2016-04-04 00:00:00</td>\n",
       "      <td>0</td>\n",
       "      <td>71034</td>\n",
       "      <td>2016-04-06 14:45:08</td>\n",
       "    </tr>\n",
       "    <tr>\n",
       "      <th>2</th>\n",
       "      <td>2016-03-26 18:57:24</td>\n",
       "      <td>Volkswagen_Golf_1.6_United</td>\n",
       "      <td>privat</td>\n",
       "      <td>Angebot</td>\n",
       "      <td>$8,990</td>\n",
       "      <td>test</td>\n",
       "      <td>limousine</td>\n",
       "      <td>2009</td>\n",
       "      <td>manuell</td>\n",
       "      <td>102</td>\n",
       "      <td>golf</td>\n",
       "      <td>70,000km</td>\n",
       "      <td>7</td>\n",
       "      <td>benzin</td>\n",
       "      <td>volkswagen</td>\n",
       "      <td>nein</td>\n",
       "      <td>2016-03-26 00:00:00</td>\n",
       "      <td>0</td>\n",
       "      <td>35394</td>\n",
       "      <td>2016-04-06 20:15:37</td>\n",
       "    </tr>\n",
       "    <tr>\n",
       "      <th>3</th>\n",
       "      <td>2016-03-12 16:58:10</td>\n",
       "      <td>Smart_smart_fortwo_coupe_softouch/F1/Klima/Pan...</td>\n",
       "      <td>privat</td>\n",
       "      <td>Angebot</td>\n",
       "      <td>$4,350</td>\n",
       "      <td>control</td>\n",
       "      <td>kleinwagen</td>\n",
       "      <td>2007</td>\n",
       "      <td>automatik</td>\n",
       "      <td>71</td>\n",
       "      <td>fortwo</td>\n",
       "      <td>70,000km</td>\n",
       "      <td>6</td>\n",
       "      <td>benzin</td>\n",
       "      <td>smart</td>\n",
       "      <td>nein</td>\n",
       "      <td>2016-03-12 00:00:00</td>\n",
       "      <td>0</td>\n",
       "      <td>33729</td>\n",
       "      <td>2016-03-15 03:16:28</td>\n",
       "    </tr>\n",
       "    <tr>\n",
       "      <th>4</th>\n",
       "      <td>2016-04-01 14:38:50</td>\n",
       "      <td>Ford_Focus_1_6_Benzin_TÜV_neu_ist_sehr_gepfleg...</td>\n",
       "      <td>privat</td>\n",
       "      <td>Angebot</td>\n",
       "      <td>$1,350</td>\n",
       "      <td>test</td>\n",
       "      <td>kombi</td>\n",
       "      <td>2003</td>\n",
       "      <td>manuell</td>\n",
       "      <td>0</td>\n",
       "      <td>focus</td>\n",
       "      <td>150,000km</td>\n",
       "      <td>7</td>\n",
       "      <td>benzin</td>\n",
       "      <td>ford</td>\n",
       "      <td>nein</td>\n",
       "      <td>2016-04-01 00:00:00</td>\n",
       "      <td>0</td>\n",
       "      <td>39218</td>\n",
       "      <td>2016-04-01 14:38:50</td>\n",
       "    </tr>\n",
       "    <tr>\n",
       "      <th>5</th>\n",
       "      <td>2016-03-21 13:47:45</td>\n",
       "      <td>Chrysler_Grand_Voyager_2.8_CRD_Aut.Limited_Sto...</td>\n",
       "      <td>privat</td>\n",
       "      <td>Angebot</td>\n",
       "      <td>$7,900</td>\n",
       "      <td>test</td>\n",
       "      <td>bus</td>\n",
       "      <td>2006</td>\n",
       "      <td>automatik</td>\n",
       "      <td>150</td>\n",
       "      <td>voyager</td>\n",
       "      <td>150,000km</td>\n",
       "      <td>4</td>\n",
       "      <td>diesel</td>\n",
       "      <td>chrysler</td>\n",
       "      <td>NaN</td>\n",
       "      <td>2016-03-21 00:00:00</td>\n",
       "      <td>0</td>\n",
       "      <td>22962</td>\n",
       "      <td>2016-04-06 09:45:21</td>\n",
       "    </tr>\n",
       "    <tr>\n",
       "      <th>6</th>\n",
       "      <td>2016-03-20 17:55:21</td>\n",
       "      <td>VW_Golf_III_GT_Special_Electronic_Green_Metall...</td>\n",
       "      <td>privat</td>\n",
       "      <td>Angebot</td>\n",
       "      <td>$300</td>\n",
       "      <td>test</td>\n",
       "      <td>limousine</td>\n",
       "      <td>1995</td>\n",
       "      <td>manuell</td>\n",
       "      <td>90</td>\n",
       "      <td>golf</td>\n",
       "      <td>150,000km</td>\n",
       "      <td>8</td>\n",
       "      <td>benzin</td>\n",
       "      <td>volkswagen</td>\n",
       "      <td>NaN</td>\n",
       "      <td>2016-03-20 00:00:00</td>\n",
       "      <td>0</td>\n",
       "      <td>31535</td>\n",
       "      <td>2016-03-23 02:48:59</td>\n",
       "    </tr>\n",
       "    <tr>\n",
       "      <th>7</th>\n",
       "      <td>2016-03-16 18:55:19</td>\n",
       "      <td>Golf_IV_1.9_TDI_90PS</td>\n",
       "      <td>privat</td>\n",
       "      <td>Angebot</td>\n",
       "      <td>$1,990</td>\n",
       "      <td>control</td>\n",
       "      <td>limousine</td>\n",
       "      <td>1998</td>\n",
       "      <td>manuell</td>\n",
       "      <td>90</td>\n",
       "      <td>golf</td>\n",
       "      <td>150,000km</td>\n",
       "      <td>12</td>\n",
       "      <td>diesel</td>\n",
       "      <td>volkswagen</td>\n",
       "      <td>nein</td>\n",
       "      <td>2016-03-16 00:00:00</td>\n",
       "      <td>0</td>\n",
       "      <td>53474</td>\n",
       "      <td>2016-04-07 03:17:32</td>\n",
       "    </tr>\n",
       "    <tr>\n",
       "      <th>8</th>\n",
       "      <td>2016-03-22 16:51:34</td>\n",
       "      <td>Seat_Arosa</td>\n",
       "      <td>privat</td>\n",
       "      <td>Angebot</td>\n",
       "      <td>$250</td>\n",
       "      <td>test</td>\n",
       "      <td>NaN</td>\n",
       "      <td>2000</td>\n",
       "      <td>manuell</td>\n",
       "      <td>0</td>\n",
       "      <td>arosa</td>\n",
       "      <td>150,000km</td>\n",
       "      <td>10</td>\n",
       "      <td>NaN</td>\n",
       "      <td>seat</td>\n",
       "      <td>nein</td>\n",
       "      <td>2016-03-22 00:00:00</td>\n",
       "      <td>0</td>\n",
       "      <td>7426</td>\n",
       "      <td>2016-03-26 18:18:10</td>\n",
       "    </tr>\n",
       "    <tr>\n",
       "      <th>9</th>\n",
       "      <td>2016-03-16 13:47:02</td>\n",
       "      <td>Renault_Megane_Scenic_1.6e_RT_Klimaanlage</td>\n",
       "      <td>privat</td>\n",
       "      <td>Angebot</td>\n",
       "      <td>$590</td>\n",
       "      <td>control</td>\n",
       "      <td>bus</td>\n",
       "      <td>1997</td>\n",
       "      <td>manuell</td>\n",
       "      <td>90</td>\n",
       "      <td>megane</td>\n",
       "      <td>150,000km</td>\n",
       "      <td>7</td>\n",
       "      <td>benzin</td>\n",
       "      <td>renault</td>\n",
       "      <td>nein</td>\n",
       "      <td>2016-03-16 00:00:00</td>\n",
       "      <td>0</td>\n",
       "      <td>15749</td>\n",
       "      <td>2016-04-06 10:46:35</td>\n",
       "    </tr>\n",
       "  </tbody>\n",
       "</table>\n",
       "</div>"
      ],
      "text/plain": [
       "           dateCrawled                                               name  \\\n",
       "0  2016-03-26 17:47:46                   Peugeot_807_160_NAVTECH_ON_BOARD   \n",
       "1  2016-04-04 13:38:56         BMW_740i_4_4_Liter_HAMANN_UMBAU_Mega_Optik   \n",
       "2  2016-03-26 18:57:24                         Volkswagen_Golf_1.6_United   \n",
       "3  2016-03-12 16:58:10  Smart_smart_fortwo_coupe_softouch/F1/Klima/Pan...   \n",
       "4  2016-04-01 14:38:50  Ford_Focus_1_6_Benzin_TÜV_neu_ist_sehr_gepfleg...   \n",
       "5  2016-03-21 13:47:45  Chrysler_Grand_Voyager_2.8_CRD_Aut.Limited_Sto...   \n",
       "6  2016-03-20 17:55:21  VW_Golf_III_GT_Special_Electronic_Green_Metall...   \n",
       "7  2016-03-16 18:55:19                               Golf_IV_1.9_TDI_90PS   \n",
       "8  2016-03-22 16:51:34                                         Seat_Arosa   \n",
       "9  2016-03-16 13:47:02          Renault_Megane_Scenic_1.6e_RT_Klimaanlage   \n",
       "\n",
       "   seller offerType   price   abtest vehicleType  yearOfRegistration  \\\n",
       "0  privat   Angebot  $5,000  control         bus                2004   \n",
       "1  privat   Angebot  $8,500  control   limousine                1997   \n",
       "2  privat   Angebot  $8,990     test   limousine                2009   \n",
       "3  privat   Angebot  $4,350  control  kleinwagen                2007   \n",
       "4  privat   Angebot  $1,350     test       kombi                2003   \n",
       "5  privat   Angebot  $7,900     test         bus                2006   \n",
       "6  privat   Angebot    $300     test   limousine                1995   \n",
       "7  privat   Angebot  $1,990  control   limousine                1998   \n",
       "8  privat   Angebot    $250     test         NaN                2000   \n",
       "9  privat   Angebot    $590  control         bus                1997   \n",
       "\n",
       "     gearbox  powerPS    model   odometer  monthOfRegistration fuelType  \\\n",
       "0    manuell      158   andere  150,000km                    3      lpg   \n",
       "1  automatik      286      7er  150,000km                    6   benzin   \n",
       "2    manuell      102     golf   70,000km                    7   benzin   \n",
       "3  automatik       71   fortwo   70,000km                    6   benzin   \n",
       "4    manuell        0    focus  150,000km                    7   benzin   \n",
       "5  automatik      150  voyager  150,000km                    4   diesel   \n",
       "6    manuell       90     golf  150,000km                    8   benzin   \n",
       "7    manuell       90     golf  150,000km                   12   diesel   \n",
       "8    manuell        0    arosa  150,000km                   10      NaN   \n",
       "9    manuell       90   megane  150,000km                    7   benzin   \n",
       "\n",
       "        brand notRepairedDamage          dateCreated  nrOfPictures  \\\n",
       "0     peugeot              nein  2016-03-26 00:00:00             0   \n",
       "1         bmw              nein  2016-04-04 00:00:00             0   \n",
       "2  volkswagen              nein  2016-03-26 00:00:00             0   \n",
       "3       smart              nein  2016-03-12 00:00:00             0   \n",
       "4        ford              nein  2016-04-01 00:00:00             0   \n",
       "5    chrysler               NaN  2016-03-21 00:00:00             0   \n",
       "6  volkswagen               NaN  2016-03-20 00:00:00             0   \n",
       "7  volkswagen              nein  2016-03-16 00:00:00             0   \n",
       "8        seat              nein  2016-03-22 00:00:00             0   \n",
       "9     renault              nein  2016-03-16 00:00:00             0   \n",
       "\n",
       "   postalCode             lastSeen  \n",
       "0       79588  2016-04-06 06:45:54  \n",
       "1       71034  2016-04-06 14:45:08  \n",
       "2       35394  2016-04-06 20:15:37  \n",
       "3       33729  2016-03-15 03:16:28  \n",
       "4       39218  2016-04-01 14:38:50  \n",
       "5       22962  2016-04-06 09:45:21  \n",
       "6       31535  2016-03-23 02:48:59  \n",
       "7       53474  2016-04-07 03:17:32  \n",
       "8        7426  2016-03-26 18:18:10  \n",
       "9       15749  2016-04-06 10:46:35  "
      ]
     },
     "execution_count": 3,
     "metadata": {},
     "output_type": "execute_result"
    }
   ],
   "source": [
    "autos.info()\n",
    "autos.head(10)"
   ]
  },
  {
   "cell_type": "markdown",
   "metadata": {},
   "source": [
    "#### Observations:\n",
    "1) The dataframe has maximum of 50000 row, there are columns with empty cells\n",
    "<br>\n",
    "2) There are capital letters used in header row\n",
    "<br>"
   ]
  },
  {
   "cell_type": "code",
   "execution_count": 4,
   "metadata": {
    "collapsed": false
   },
   "outputs": [
    {
     "data": {
      "text/plain": [
       "Index(['dateCrawled', 'name', 'seller', 'offerType', 'price', 'abtest',\n",
       "       'vehicleType', 'yearOfRegistration', 'gearbox', 'powerPS', 'model',\n",
       "       'odometer', 'monthOfRegistration', 'fuelType', 'brand',\n",
       "       'notRepairedDamage', 'dateCreated', 'nrOfPictures', 'postalCode',\n",
       "       'lastSeen'],\n",
       "      dtype='object')"
      ]
     },
     "execution_count": 4,
     "metadata": {},
     "output_type": "execute_result"
    }
   ],
   "source": [
    "autos.columns"
   ]
  },
  {
   "cell_type": "code",
   "execution_count": 5,
   "metadata": {
    "collapsed": false
   },
   "outputs": [],
   "source": [
    "autos.columns =['date_crawled', 'name', 'seller', 'offer_type', 'price', 'abtest',\n",
    "       'vehicle_type', 'registration_year', 'gearbox', 'power_ps', 'model',\n",
    "       'odometer_km', 'registration_month', 'fuel_type', 'brand',\n",
    "       'unrepaired_damage', 'ad_created', 'nr_of_pictures', 'postal_code',\n",
    "       'last_seen']"
   ]
  },
  {
   "cell_type": "markdown",
   "metadata": {},
   "source": [
    "#### Changes:\n",
    "Header has been changed from camelcase to snakecase to facilitate better column identification"
   ]
  },
  {
   "cell_type": "code",
   "execution_count": 6,
   "metadata": {
    "collapsed": false
   },
   "outputs": [
    {
     "data": {
      "text/html": [
       "<div>\n",
       "<style scoped>\n",
       "    .dataframe tbody tr th:only-of-type {\n",
       "        vertical-align: middle;\n",
       "    }\n",
       "\n",
       "    .dataframe tbody tr th {\n",
       "        vertical-align: top;\n",
       "    }\n",
       "\n",
       "    .dataframe thead th {\n",
       "        text-align: right;\n",
       "    }\n",
       "</style>\n",
       "<table border=\"1\" class=\"dataframe\">\n",
       "  <thead>\n",
       "    <tr style=\"text-align: right;\">\n",
       "      <th></th>\n",
       "      <th>registration_year</th>\n",
       "      <th>power_ps</th>\n",
       "      <th>registration_month</th>\n",
       "      <th>nr_of_pictures</th>\n",
       "      <th>postal_code</th>\n",
       "    </tr>\n",
       "  </thead>\n",
       "  <tbody>\n",
       "    <tr>\n",
       "      <th>count</th>\n",
       "      <td>50000.000000</td>\n",
       "      <td>50000.000000</td>\n",
       "      <td>50000.000000</td>\n",
       "      <td>50000.0</td>\n",
       "      <td>50000.000000</td>\n",
       "    </tr>\n",
       "    <tr>\n",
       "      <th>mean</th>\n",
       "      <td>2005.073280</td>\n",
       "      <td>116.355920</td>\n",
       "      <td>5.723360</td>\n",
       "      <td>0.0</td>\n",
       "      <td>50813.627300</td>\n",
       "    </tr>\n",
       "    <tr>\n",
       "      <th>std</th>\n",
       "      <td>105.712813</td>\n",
       "      <td>209.216627</td>\n",
       "      <td>3.711984</td>\n",
       "      <td>0.0</td>\n",
       "      <td>25779.747957</td>\n",
       "    </tr>\n",
       "    <tr>\n",
       "      <th>min</th>\n",
       "      <td>1000.000000</td>\n",
       "      <td>0.000000</td>\n",
       "      <td>0.000000</td>\n",
       "      <td>0.0</td>\n",
       "      <td>1067.000000</td>\n",
       "    </tr>\n",
       "    <tr>\n",
       "      <th>25%</th>\n",
       "      <td>1999.000000</td>\n",
       "      <td>70.000000</td>\n",
       "      <td>3.000000</td>\n",
       "      <td>0.0</td>\n",
       "      <td>30451.000000</td>\n",
       "    </tr>\n",
       "    <tr>\n",
       "      <th>50%</th>\n",
       "      <td>2003.000000</td>\n",
       "      <td>105.000000</td>\n",
       "      <td>6.000000</td>\n",
       "      <td>0.0</td>\n",
       "      <td>49577.000000</td>\n",
       "    </tr>\n",
       "    <tr>\n",
       "      <th>75%</th>\n",
       "      <td>2008.000000</td>\n",
       "      <td>150.000000</td>\n",
       "      <td>9.000000</td>\n",
       "      <td>0.0</td>\n",
       "      <td>71540.000000</td>\n",
       "    </tr>\n",
       "    <tr>\n",
       "      <th>max</th>\n",
       "      <td>9999.000000</td>\n",
       "      <td>17700.000000</td>\n",
       "      <td>12.000000</td>\n",
       "      <td>0.0</td>\n",
       "      <td>99998.000000</td>\n",
       "    </tr>\n",
       "  </tbody>\n",
       "</table>\n",
       "</div>"
      ],
      "text/plain": [
       "       registration_year      power_ps  registration_month  nr_of_pictures  \\\n",
       "count       50000.000000  50000.000000        50000.000000         50000.0   \n",
       "mean         2005.073280    116.355920            5.723360             0.0   \n",
       "std           105.712813    209.216627            3.711984             0.0   \n",
       "min          1000.000000      0.000000            0.000000             0.0   \n",
       "25%          1999.000000     70.000000            3.000000             0.0   \n",
       "50%          2003.000000    105.000000            6.000000             0.0   \n",
       "75%          2008.000000    150.000000            9.000000             0.0   \n",
       "max          9999.000000  17700.000000           12.000000             0.0   \n",
       "\n",
       "        postal_code  \n",
       "count  50000.000000  \n",
       "mean   50813.627300  \n",
       "std    25779.747957  \n",
       "min     1067.000000  \n",
       "25%    30451.000000  \n",
       "50%    49577.000000  \n",
       "75%    71540.000000  \n",
       "max    99998.000000  "
      ]
     },
     "execution_count": 6,
     "metadata": {},
     "output_type": "execute_result"
    }
   ],
   "source": [
    "autos.describe()"
   ]
  },
  {
   "cell_type": "markdown",
   "metadata": {},
   "source": [
    "#### Observations:\n",
    "1) registration_year - There is a cell with 9999 which is invalid\n",
    "<br>\n",
    "2) seller, offer_type, unrepaired_damage, nr_of_pictures - Can be dropped as cell are mainly unique values\n",
    "<br>\n",
    "3) price - in text form, should be in numeric data form\n",
    "<br>\n",
    "4) odometer - in text form, should be in numeric data form"
   ]
  },
  {
   "cell_type": "code",
   "execution_count": 7,
   "metadata": {
    "collapsed": true
   },
   "outputs": [],
   "source": [
    "autos[\"price\"] = autos[\"price\"].str.replace(\"$\",\"\")\n",
    "autos[\"price\"] = autos[\"price\"].str.replace(\",\",\"\")\n",
    "\n",
    "autos[\"odometer_km\"] = autos[\"odometer_km\"].str.replace(\"km\",\"\")\n",
    "autos[\"odometer_km\"] = autos[\"odometer_km\"].str.replace(\",\",\"\")"
   ]
  },
  {
   "cell_type": "code",
   "execution_count": 8,
   "metadata": {
    "collapsed": false
   },
   "outputs": [],
   "source": [
    "autos[\"price\"] = autos[\"price\"].astype(float)\n",
    "autos[\"odometer_km\"] = autos[\"odometer_km\"].astype(float)"
   ]
  },
  {
   "cell_type": "markdown",
   "metadata": {},
   "source": [
    "#### Changes:\n",
    "Price and odometer_km column has been changed to numeric data"
   ]
  },
  {
   "cell_type": "markdown",
   "metadata": {},
   "source": [
    "## Exploring odometer_km column"
   ]
  },
  {
   "cell_type": "code",
   "execution_count": 9,
   "metadata": {
    "collapsed": false
   },
   "outputs": [
    {
     "data": {
      "text/plain": [
       "(13,)"
      ]
     },
     "execution_count": 9,
     "metadata": {},
     "output_type": "execute_result"
    }
   ],
   "source": [
    "autos[\"odometer_km\"].unique().shape"
   ]
  },
  {
   "cell_type": "code",
   "execution_count": 10,
   "metadata": {
    "collapsed": false
   },
   "outputs": [
    {
     "data": {
      "text/plain": [
       "count     50000.000000\n",
       "mean     125732.700000\n",
       "std       40042.211706\n",
       "min        5000.000000\n",
       "25%      125000.000000\n",
       "50%      150000.000000\n",
       "75%      150000.000000\n",
       "max      150000.000000\n",
       "Name: odometer_km, dtype: float64"
      ]
     },
     "execution_count": 10,
     "metadata": {},
     "output_type": "execute_result"
    }
   ],
   "source": [
    "autos[\"odometer_km\"].describe()"
   ]
  },
  {
   "cell_type": "code",
   "execution_count": 11,
   "metadata": {
    "collapsed": false
   },
   "outputs": [
    {
     "data": {
      "text/plain": [
       "5000.0        967\n",
       "10000.0       264\n",
       "20000.0       784\n",
       "30000.0       789\n",
       "40000.0       819\n",
       "50000.0      1027\n",
       "60000.0      1164\n",
       "70000.0      1230\n",
       "80000.0      1436\n",
       "90000.0      1757\n",
       "100000.0     2169\n",
       "125000.0     5170\n",
       "150000.0    32424\n",
       "Name: odometer_km, dtype: int64"
      ]
     },
     "execution_count": 11,
     "metadata": {},
     "output_type": "execute_result"
    }
   ],
   "source": [
    "autos[\"odometer_km\"].value_counts().sort_index()"
   ]
  },
  {
   "cell_type": "markdown",
   "metadata": {},
   "source": [
    "#### Observation:\n",
    "There is no issue with the odometer_km column"
   ]
  },
  {
   "cell_type": "markdown",
   "metadata": {},
   "source": [
    "## Exploring price column"
   ]
  },
  {
   "cell_type": "code",
   "execution_count": 12,
   "metadata": {
    "collapsed": false
   },
   "outputs": [
    {
     "data": {
      "text/plain": [
       "(2357,)"
      ]
     },
     "execution_count": 12,
     "metadata": {},
     "output_type": "execute_result"
    }
   ],
   "source": [
    "autos[\"price\"].unique().shape"
   ]
  },
  {
   "cell_type": "code",
   "execution_count": 13,
   "metadata": {
    "collapsed": false
   },
   "outputs": [
    {
     "data": {
      "text/plain": [
       "count       50000.0\n",
       "mean         9840.0\n",
       "std        481104.0\n",
       "min             0.0\n",
       "25%          1100.0\n",
       "50%          2950.0\n",
       "75%          7200.0\n",
       "max      99999999.0\n",
       "Name: price, dtype: float64"
      ]
     },
     "execution_count": 13,
     "metadata": {},
     "output_type": "execute_result"
    }
   ],
   "source": [
    "autos[\"price\"].describe().round()"
   ]
  },
  {
   "cell_type": "code",
   "execution_count": 14,
   "metadata": {
    "collapsed": false
   },
   "outputs": [
    {
     "data": {
      "text/plain": [
       "99999999.0    1\n",
       "27322222.0    1\n",
       "12345678.0    3\n",
       "11111111.0    2\n",
       "10000000.0    1\n",
       "3890000.0     1\n",
       "1300000.0     1\n",
       "1234566.0     1\n",
       "999999.0      2\n",
       "999990.0      1\n",
       "350000.0      1\n",
       "345000.0      1\n",
       "299000.0      1\n",
       "295000.0      1\n",
       "265000.0      1\n",
       "Name: price, dtype: int64"
      ]
     },
     "execution_count": 14,
     "metadata": {},
     "output_type": "execute_result"
    }
   ],
   "source": [
    "autos[\"price\"].value_counts().sort_index(ascending = False).head(15)"
   ]
  },
  {
   "cell_type": "markdown",
   "metadata": {},
   "source": [
    "#### Observation:\n",
    "The high outlier is obvious and can be removed without exploration"
   ]
  },
  {
   "cell_type": "code",
   "execution_count": 15,
   "metadata": {
    "collapsed": false
   },
   "outputs": [
    {
     "data": {
      "text/plain": [
       "0.0     1421\n",
       "1.0      156\n",
       "2.0        3\n",
       "3.0        1\n",
       "5.0        2\n",
       "8.0        1\n",
       "9.0        1\n",
       "10.0       7\n",
       "11.0       2\n",
       "12.0       3\n",
       "13.0       2\n",
       "14.0       1\n",
       "15.0       2\n",
       "17.0       3\n",
       "18.0       1\n",
       "Name: price, dtype: int64"
      ]
     },
     "execution_count": 15,
     "metadata": {},
     "output_type": "execute_result"
    }
   ],
   "source": [
    "autos[\"price\"].value_counts().sort_index(ascending = True).head(15)"
   ]
  },
  {
   "cell_type": "markdown",
   "metadata": {},
   "source": [
    "#### Observation:\n",
    "The low outlier has a larger number of vehicle, a scatterplot is recommended but instead will be filtering listing with price below 1000"
   ]
  },
  {
   "cell_type": "code",
   "execution_count": 16,
   "metadata": {
    "collapsed": false
   },
   "outputs": [],
   "source": [
    "autos = autos[(autos[\"price\"] > 999) & (autos[\"price\"] < 350001)]"
   ]
  },
  {
   "cell_type": "markdown",
   "metadata": {
    "collapsed": true
   },
   "source": [
    "## Converting datetime data"
   ]
  },
  {
   "cell_type": "code",
   "execution_count": 17,
   "metadata": {
    "collapsed": false
   },
   "outputs": [
    {
     "data": {
      "text/html": [
       "<div>\n",
       "<style scoped>\n",
       "    .dataframe tbody tr th:only-of-type {\n",
       "        vertical-align: middle;\n",
       "    }\n",
       "\n",
       "    .dataframe tbody tr th {\n",
       "        vertical-align: top;\n",
       "    }\n",
       "\n",
       "    .dataframe thead th {\n",
       "        text-align: right;\n",
       "    }\n",
       "</style>\n",
       "<table border=\"1\" class=\"dataframe\">\n",
       "  <thead>\n",
       "    <tr style=\"text-align: right;\">\n",
       "      <th></th>\n",
       "      <th>date_crawled</th>\n",
       "      <th>ad_created</th>\n",
       "      <th>last_seen</th>\n",
       "    </tr>\n",
       "  </thead>\n",
       "  <tbody>\n",
       "    <tr>\n",
       "      <th>0</th>\n",
       "      <td>2016-03-26 17:47:46</td>\n",
       "      <td>2016-03-26 00:00:00</td>\n",
       "      <td>2016-04-06 06:45:54</td>\n",
       "    </tr>\n",
       "    <tr>\n",
       "      <th>1</th>\n",
       "      <td>2016-04-04 13:38:56</td>\n",
       "      <td>2016-04-04 00:00:00</td>\n",
       "      <td>2016-04-06 14:45:08</td>\n",
       "    </tr>\n",
       "    <tr>\n",
       "      <th>2</th>\n",
       "      <td>2016-03-26 18:57:24</td>\n",
       "      <td>2016-03-26 00:00:00</td>\n",
       "      <td>2016-04-06 20:15:37</td>\n",
       "    </tr>\n",
       "    <tr>\n",
       "      <th>3</th>\n",
       "      <td>2016-03-12 16:58:10</td>\n",
       "      <td>2016-03-12 00:00:00</td>\n",
       "      <td>2016-03-15 03:16:28</td>\n",
       "    </tr>\n",
       "    <tr>\n",
       "      <th>4</th>\n",
       "      <td>2016-04-01 14:38:50</td>\n",
       "      <td>2016-04-01 00:00:00</td>\n",
       "      <td>2016-04-01 14:38:50</td>\n",
       "    </tr>\n",
       "  </tbody>\n",
       "</table>\n",
       "</div>"
      ],
      "text/plain": [
       "          date_crawled           ad_created            last_seen\n",
       "0  2016-03-26 17:47:46  2016-03-26 00:00:00  2016-04-06 06:45:54\n",
       "1  2016-04-04 13:38:56  2016-04-04 00:00:00  2016-04-06 14:45:08\n",
       "2  2016-03-26 18:57:24  2016-03-26 00:00:00  2016-04-06 20:15:37\n",
       "3  2016-03-12 16:58:10  2016-03-12 00:00:00  2016-03-15 03:16:28\n",
       "4  2016-04-01 14:38:50  2016-04-01 00:00:00  2016-04-01 14:38:50"
      ]
     },
     "execution_count": 17,
     "metadata": {},
     "output_type": "execute_result"
    }
   ],
   "source": [
    "autos[['date_crawled','ad_created','last_seen']][0:5]"
   ]
  },
  {
   "cell_type": "code",
   "execution_count": 18,
   "metadata": {
    "collapsed": false
   },
   "outputs": [
    {
     "data": {
      "text/plain": [
       "2016-03-05    0.026\n",
       "2016-03-06    0.014\n",
       "2016-03-07    0.035\n",
       "2016-03-08    0.033\n",
       "2016-03-09    0.032\n",
       "2016-03-10    0.033\n",
       "2016-03-11    0.033\n",
       "2016-03-12    0.037\n",
       "2016-03-13    0.016\n",
       "2016-03-14    0.037\n",
       "2016-03-15    0.034\n",
       "2016-03-16    0.029\n",
       "2016-03-17    0.030\n",
       "2016-03-18    0.013\n",
       "2016-03-19    0.035\n",
       "2016-03-20    0.038\n",
       "2016-03-21    0.037\n",
       "2016-03-22    0.033\n",
       "2016-03-23    0.032\n",
       "2016-03-24    0.029\n",
       "2016-03-25    0.031\n",
       "2016-03-26    0.033\n",
       "2016-03-27    0.031\n",
       "2016-03-28    0.035\n",
       "2016-03-29    0.034\n",
       "2016-03-30    0.033\n",
       "2016-03-31    0.031\n",
       "2016-04-01    0.035\n",
       "2016-04-02    0.036\n",
       "2016-04-03    0.039\n",
       "2016-04-04    0.037\n",
       "2016-04-05    0.013\n",
       "2016-04-06    0.003\n",
       "2016-04-07    0.002\n",
       "Name: date_crawled, dtype: float64"
      ]
     },
     "execution_count": 18,
     "metadata": {},
     "output_type": "execute_result"
    }
   ],
   "source": [
    "autos[\"date_crawled\"].str[:10].value_counts(normalize = True, dropna = False).sort_index().round(3)"
   ]
  },
  {
   "cell_type": "markdown",
   "metadata": {},
   "source": [
    "#### Observation:\n",
    "Data for date_crawled is evenly distributed"
   ]
  },
  {
   "cell_type": "code",
   "execution_count": 19,
   "metadata": {
    "collapsed": false
   },
   "outputs": [
    {
     "data": {
      "text/plain": [
       "2015-06-11    0.00003\n",
       "2015-08-10    0.00003\n",
       "2015-09-09    0.00003\n",
       "2015-11-10    0.00003\n",
       "2015-12-30    0.00003\n",
       "2016-01-03    0.00003\n",
       "2016-01-07    0.00003\n",
       "2016-01-10    0.00005\n",
       "2016-01-13    0.00003\n",
       "2016-01-14    0.00003\n",
       "2016-01-16    0.00003\n",
       "2016-01-22    0.00003\n",
       "2016-01-27    0.00008\n",
       "2016-01-29    0.00003\n",
       "2016-02-01    0.00003\n",
       "2016-02-02    0.00005\n",
       "2016-02-05    0.00005\n",
       "2016-02-07    0.00003\n",
       "2016-02-09    0.00003\n",
       "2016-02-11    0.00003\n",
       "2016-02-12    0.00005\n",
       "2016-02-14    0.00005\n",
       "2016-02-16    0.00003\n",
       "2016-02-17    0.00003\n",
       "2016-02-18    0.00005\n",
       "2016-02-19    0.00008\n",
       "2016-02-20    0.00003\n",
       "2016-02-21    0.00005\n",
       "2016-02-22    0.00003\n",
       "2016-02-23    0.00010\n",
       "               ...   \n",
       "2016-03-09    0.03265\n",
       "2016-03-10    0.03298\n",
       "2016-03-11    0.03306\n",
       "2016-03-12    0.03713\n",
       "2016-03-13    0.01766\n",
       "2016-03-14    0.03498\n",
       "2016-03-15    0.03345\n",
       "2016-03-16    0.02964\n",
       "2016-03-17    0.03016\n",
       "2016-03-18    0.01328\n",
       "2016-03-19    0.03407\n",
       "2016-03-20    0.03826\n",
       "2016-03-21    0.03757\n",
       "2016-03-22    0.03231\n",
       "2016-03-23    0.03195\n",
       "2016-03-24    0.02902\n",
       "2016-03-25    0.03068\n",
       "2016-03-26    0.03322\n",
       "2016-03-27    0.03127\n",
       "2016-03-28    0.03539\n",
       "2016-03-29    0.03397\n",
       "2016-03-30    0.03291\n",
       "2016-03-31    0.03156\n",
       "2016-04-01    0.03446\n",
       "2016-04-02    0.03596\n",
       "2016-04-03    0.03946\n",
       "2016-04-04    0.03728\n",
       "2016-04-05    0.01199\n",
       "2016-04-06    0.00337\n",
       "2016-04-07    0.00132\n",
       "Name: ad_created, Length: 74, dtype: float64"
      ]
     },
     "execution_count": 19,
     "metadata": {},
     "output_type": "execute_result"
    }
   ],
   "source": [
    "autos[\"ad_created\"].str[:10].value_counts(normalize = True, dropna = False).sort_index().round(5)"
   ]
  },
  {
   "cell_type": "markdown",
   "metadata": {},
   "source": [
    "#### Observation\n",
    "Date for ad_created increases overtime"
   ]
  },
  {
   "cell_type": "code",
   "execution_count": 20,
   "metadata": {
    "collapsed": false
   },
   "outputs": [
    {
     "data": {
      "text/plain": [
       "2016-03-05    0.001\n",
       "2016-03-06    0.004\n",
       "2016-03-07    0.005\n",
       "2016-03-08    0.006\n",
       "2016-03-09    0.009\n",
       "2016-03-10    0.010\n",
       "2016-03-11    0.012\n",
       "2016-03-12    0.022\n",
       "2016-03-13    0.008\n",
       "2016-03-14    0.012\n",
       "2016-03-15    0.015\n",
       "2016-03-16    0.015\n",
       "2016-03-17    0.026\n",
       "2016-03-18    0.007\n",
       "2016-03-19    0.015\n",
       "2016-03-20    0.020\n",
       "2016-03-21    0.020\n",
       "2016-03-22    0.021\n",
       "2016-03-23    0.018\n",
       "2016-03-24    0.019\n",
       "2016-03-25    0.018\n",
       "2016-03-26    0.016\n",
       "2016-03-27    0.014\n",
       "2016-03-28    0.019\n",
       "2016-03-29    0.021\n",
       "2016-03-30    0.023\n",
       "2016-03-31    0.023\n",
       "2016-04-01    0.023\n",
       "2016-04-02    0.025\n",
       "2016-04-03    0.024\n",
       "2016-04-04    0.023\n",
       "2016-04-05    0.131\n",
       "2016-04-06    0.235\n",
       "2016-04-07    0.140\n",
       "Name: last_seen, dtype: float64"
      ]
     },
     "execution_count": 20,
     "metadata": {},
     "output_type": "execute_result"
    }
   ],
   "source": [
    "autos[\"last_seen\"].str[:10].value_counts(normalize = True, dropna = False).sort_index().round(3)"
   ]
  },
  {
   "cell_type": "markdown",
   "metadata": {},
   "source": [
    "#### Observation:\n",
    "Data for last_seen is evenly distributed"
   ]
  },
  {
   "cell_type": "code",
   "execution_count": 21,
   "metadata": {
    "collapsed": false
   },
   "outputs": [
    {
     "data": {
      "text/plain": [
       "count    38626.000000\n",
       "mean      2005.679801\n",
       "std         86.685138\n",
       "min       1000.000000\n",
       "25%       2001.000000\n",
       "50%       2005.000000\n",
       "75%       2009.000000\n",
       "max       9999.000000\n",
       "Name: registration_year, dtype: float64"
      ]
     },
     "execution_count": 21,
     "metadata": {},
     "output_type": "execute_result"
    }
   ],
   "source": [
    "autos[\"registration_year\"].describe()"
   ]
  },
  {
   "cell_type": "markdown",
   "metadata": {},
   "source": [
    "#### Observation:\n",
    "Min of 1000 and Max of 9999 is invalid, need to remove outliers"
   ]
  },
  {
   "cell_type": "code",
   "execution_count": 22,
   "metadata": {
    "collapsed": false
   },
   "outputs": [
    {
     "data": {
      "text/plain": [
       "1000       1\n",
       "1001       1\n",
       "1927       1\n",
       "1929       1\n",
       "1931       1\n",
       "1934       2\n",
       "1937       4\n",
       "1938       1\n",
       "1939       1\n",
       "1941       2\n",
       "1943       1\n",
       "1948       1\n",
       "1950       1\n",
       "1951       2\n",
       "1952       1\n",
       "1953       1\n",
       "1954       2\n",
       "1955       2\n",
       "1956       4\n",
       "1957       2\n",
       "1958       3\n",
       "1959       6\n",
       "1960      17\n",
       "1961       6\n",
       "1962       4\n",
       "1963       8\n",
       "1964       9\n",
       "1965      17\n",
       "1966      21\n",
       "1967      25\n",
       "        ... \n",
       "1999    1724\n",
       "2000    2001\n",
       "2001    2065\n",
       "2002    2135\n",
       "2003    2477\n",
       "2004    2608\n",
       "2005    2785\n",
       "2006    2651\n",
       "2007    2259\n",
       "2008    2204\n",
       "2009    2076\n",
       "2010    1584\n",
       "2011    1617\n",
       "2012    1306\n",
       "2013     795\n",
       "2014     649\n",
       "2015     361\n",
       "2016     651\n",
       "2017    1008\n",
       "2018     398\n",
       "2019       1\n",
       "2800       1\n",
       "4100       1\n",
       "4500       1\n",
       "5000       2\n",
       "5911       1\n",
       "6200       1\n",
       "8888       1\n",
       "9000       1\n",
       "9999       2\n",
       "Name: registration_year, Length: 91, dtype: int64"
      ]
     },
     "execution_count": 22,
     "metadata": {},
     "output_type": "execute_result"
    }
   ],
   "source": [
    "autos[\"registration_year\"].value_counts().sort_index()"
   ]
  },
  {
   "cell_type": "markdown",
   "metadata": {},
   "source": [
    "#### Observation:\n",
    "Year 1000 and 1001 is invalid as cars is not available yet\n",
    "Years that are higher than 2019 is invalid as it is later than current year"
   ]
  },
  {
   "cell_type": "code",
   "execution_count": 23,
   "metadata": {
    "collapsed": false
   },
   "outputs": [],
   "source": [
    "autos = autos[(autos[\"registration_year\"] > 1926) & (autos[\"registration_year\"] < 2020)]"
   ]
  },
  {
   "cell_type": "code",
   "execution_count": 24,
   "metadata": {
    "collapsed": false
   },
   "outputs": [
    {
     "data": {
      "text/plain": [
       "2005    0.072126\n",
       "2006    0.068656\n",
       "2004    0.067542\n",
       "2003    0.064149\n",
       "2007    0.058504\n",
       "2008    0.057079\n",
       "2002    0.055292\n",
       "2009    0.053764\n",
       "2001    0.053479\n",
       "2000    0.051822\n",
       "1999    0.044648\n",
       "2011    0.041877\n",
       "2010    0.041022\n",
       "2012    0.033823\n",
       "1998    0.033227\n",
       "2017    0.026105\n",
       "2013    0.020589\n",
       "1997    0.020382\n",
       "2016    0.016860\n",
       "2014    0.016808\n",
       "1996    0.014037\n",
       "1995    0.011473\n",
       "2018    0.010307\n",
       "2015    0.009349\n",
       "1994    0.007018\n",
       "1993    0.005646\n",
       "1992    0.005646\n",
       "1991    0.005361\n",
       "1990    0.004895\n",
       "1989    0.003185\n",
       "          ...   \n",
       "1977    0.000518\n",
       "1975    0.000466\n",
       "1969    0.000466\n",
       "1965    0.000440\n",
       "1960    0.000440\n",
       "1964    0.000233\n",
       "1963    0.000207\n",
       "1959    0.000155\n",
       "1961    0.000155\n",
       "1937    0.000104\n",
       "1962    0.000104\n",
       "1956    0.000104\n",
       "1958    0.000078\n",
       "1954    0.000052\n",
       "1934    0.000052\n",
       "1941    0.000052\n",
       "1951    0.000052\n",
       "1957    0.000052\n",
       "1955    0.000052\n",
       "1929    0.000026\n",
       "1953    0.000026\n",
       "1943    0.000026\n",
       "2019    0.000026\n",
       "1939    0.000026\n",
       "1950    0.000026\n",
       "1931    0.000026\n",
       "1938    0.000026\n",
       "1948    0.000026\n",
       "1927    0.000026\n",
       "1952    0.000026\n",
       "Name: registration_year, Length: 80, dtype: float64"
      ]
     },
     "execution_count": 24,
     "metadata": {},
     "output_type": "execute_result"
    }
   ],
   "source": [
    "autos[\"registration_year\"].value_counts(normalize = True)"
   ]
  },
  {
   "cell_type": "markdown",
   "metadata": {},
   "source": [
    "#### Observation:\n",
    "Listing for cars increase over the years"
   ]
  },
  {
   "cell_type": "markdown",
   "metadata": {},
   "source": [
    "## Aggregating the Brand Column"
   ]
  },
  {
   "cell_type": "code",
   "execution_count": 25,
   "metadata": {
    "collapsed": false
   },
   "outputs": [
    {
     "data": {
      "text/plain": [
       "volkswagen        21.3%\n",
       "bmw               12.4%\n",
       "mercedes_benz     11.1%\n",
       "audi               9.7%\n",
       "opel               9.0%\n",
       "ford               5.9%\n",
       "renault            3.8%\n",
       "peugeot            2.8%\n",
       "fiat               2.1%\n",
       "skoda              1.9%\n",
       "seat               1.8%\n",
       "smart              1.7%\n",
       "toyota             1.5%\n",
       "mazda              1.4%\n",
       "citroen            1.4%\n",
       "nissan             1.4%\n",
       "hyundai            1.1%\n",
       "mini               1.1%\n",
       "sonstige_autos     1.0%\n",
       "volvo              0.9%\n",
       "kia                0.8%\n",
       "honda              0.7%\n",
       "porsche            0.7%\n",
       "mitsubishi         0.7%\n",
       "chevrolet          0.7%\n",
       "alfa_romeo         0.6%\n",
       "suzuki             0.6%\n",
       "dacia              0.3%\n",
       "chrysler           0.3%\n",
       "jeep               0.3%\n",
       "land_rover         0.3%\n",
       "jaguar             0.2%\n",
       "daihatsu           0.2%\n",
       "subaru             0.2%\n",
       "saab               0.1%\n",
       "daewoo             0.1%\n",
       "trabant            0.1%\n",
       "rover              0.1%\n",
       "lancia             0.1%\n",
       "lada               0.1%\n",
       "Name: brand, dtype: object"
      ]
     },
     "execution_count": 25,
     "metadata": {},
     "output_type": "execute_result"
    }
   ],
   "source": [
    "autos[\"brand\"].value_counts(normalize = True).mul(100).round(1).astype(str) + '%'"
   ]
  },
  {
   "cell_type": "markdown",
   "metadata": {},
   "source": [
    "#### Observation:\n",
    "Brands that are >5% will be selected, which adds up to six brands\n",
    "<br>\n",
    "Brands: Volkwagen, BMW, Mercedes Benz, Audi, Opel, Ford"
   ]
  },
  {
   "cell_type": "code",
   "execution_count": 36,
   "metadata": {
    "collapsed": false
   },
   "outputs": [
    {
     "data": {
      "text/plain": [
       "brand\n",
       "audi             10200.053490\n",
       "bmw               9055.438494\n",
       "ford              5292.868549\n",
       "mercedes_benz     9215.087933\n",
       "opel              4177.930796\n",
       "volkswagen        6556.728822\n",
       "Name: price, dtype: float64"
      ]
     },
     "execution_count": 36,
     "metadata": {},
     "output_type": "execute_result"
    }
   ],
   "source": [
    "autos_brand = autos[autos.brand.isin([\"volkswagen\", \"bmw\", \"mercedes_benz\", \"audi\", \"opel\", \"ford\"])]\n",
    "autos_brand.groupby(\"brand\").price.mean()"
   ]
  },
  {
   "cell_type": "code",
   "execution_count": 39,
   "metadata": {
    "collapsed": false
   },
   "outputs": [
    {
     "data": {
      "text/plain": [
       "brand\n",
       "audi             127897.833645\n",
       "bmw              132118.200837\n",
       "ford             119841.199824\n",
       "mercedes_benz    130164.873714\n",
       "opel             124124.855825\n",
       "volkswagen       126055.866602\n",
       "Name: odometer_km, dtype: float64"
      ]
     },
     "execution_count": 39,
     "metadata": {},
     "output_type": "execute_result"
    }
   ],
   "source": [
    "autos_brand.groupby(\"brand\").odometer_km.mean()"
   ]
  },
  {
   "cell_type": "code",
   "execution_count": 27,
   "metadata": {
    "collapsed": false
   },
   "outputs": [
    {
     "data": {
      "text/html": [
       "<div>\n",
       "<style scoped>\n",
       "    .dataframe tbody tr th:only-of-type {\n",
       "        vertical-align: middle;\n",
       "    }\n",
       "\n",
       "    .dataframe tbody tr th {\n",
       "        vertical-align: top;\n",
       "    }\n",
       "\n",
       "    .dataframe thead th {\n",
       "        text-align: right;\n",
       "    }\n",
       "</style>\n",
       "<table border=\"1\" class=\"dataframe\">\n",
       "  <thead>\n",
       "    <tr style=\"text-align: right;\">\n",
       "      <th></th>\n",
       "      <th>date_crawled</th>\n",
       "      <th>name</th>\n",
       "      <th>seller</th>\n",
       "      <th>offer_type</th>\n",
       "      <th>price</th>\n",
       "      <th>abtest</th>\n",
       "      <th>vehicle_type</th>\n",
       "      <th>registration_year</th>\n",
       "      <th>gearbox</th>\n",
       "      <th>power_ps</th>\n",
       "      <th>model</th>\n",
       "      <th>odometer_km</th>\n",
       "      <th>registration_month</th>\n",
       "      <th>fuel_type</th>\n",
       "      <th>brand</th>\n",
       "      <th>unrepaired_damage</th>\n",
       "      <th>ad_created</th>\n",
       "      <th>nr_of_pictures</th>\n",
       "      <th>postal_code</th>\n",
       "      <th>last_seen</th>\n",
       "    </tr>\n",
       "  </thead>\n",
       "  <tbody>\n",
       "    <tr>\n",
       "      <th>1</th>\n",
       "      <td>2016-04-04 13:38:56</td>\n",
       "      <td>BMW_740i_4_4_Liter_HAMANN_UMBAU_Mega_Optik</td>\n",
       "      <td>privat</td>\n",
       "      <td>Angebot</td>\n",
       "      <td>8500.0</td>\n",
       "      <td>control</td>\n",
       "      <td>limousine</td>\n",
       "      <td>1997</td>\n",
       "      <td>automatik</td>\n",
       "      <td>286</td>\n",
       "      <td>7er</td>\n",
       "      <td>150000.0</td>\n",
       "      <td>6</td>\n",
       "      <td>benzin</td>\n",
       "      <td>bmw</td>\n",
       "      <td>nein</td>\n",
       "      <td>2016-04-04 00:00:00</td>\n",
       "      <td>0</td>\n",
       "      <td>71034</td>\n",
       "      <td>2016-04-06 14:45:08</td>\n",
       "    </tr>\n",
       "    <tr>\n",
       "      <th>2</th>\n",
       "      <td>2016-03-26 18:57:24</td>\n",
       "      <td>Volkswagen_Golf_1.6_United</td>\n",
       "      <td>privat</td>\n",
       "      <td>Angebot</td>\n",
       "      <td>8990.0</td>\n",
       "      <td>test</td>\n",
       "      <td>limousine</td>\n",
       "      <td>2009</td>\n",
       "      <td>manuell</td>\n",
       "      <td>102</td>\n",
       "      <td>golf</td>\n",
       "      <td>70000.0</td>\n",
       "      <td>7</td>\n",
       "      <td>benzin</td>\n",
       "      <td>volkswagen</td>\n",
       "      <td>nein</td>\n",
       "      <td>2016-03-26 00:00:00</td>\n",
       "      <td>0</td>\n",
       "      <td>35394</td>\n",
       "      <td>2016-04-06 20:15:37</td>\n",
       "    </tr>\n",
       "    <tr>\n",
       "      <th>4</th>\n",
       "      <td>2016-04-01 14:38:50</td>\n",
       "      <td>Ford_Focus_1_6_Benzin_TÜV_neu_ist_sehr_gepfleg...</td>\n",
       "      <td>privat</td>\n",
       "      <td>Angebot</td>\n",
       "      <td>1350.0</td>\n",
       "      <td>test</td>\n",
       "      <td>kombi</td>\n",
       "      <td>2003</td>\n",
       "      <td>manuell</td>\n",
       "      <td>0</td>\n",
       "      <td>focus</td>\n",
       "      <td>150000.0</td>\n",
       "      <td>7</td>\n",
       "      <td>benzin</td>\n",
       "      <td>ford</td>\n",
       "      <td>nein</td>\n",
       "      <td>2016-04-01 00:00:00</td>\n",
       "      <td>0</td>\n",
       "      <td>39218</td>\n",
       "      <td>2016-04-01 14:38:50</td>\n",
       "    </tr>\n",
       "    <tr>\n",
       "      <th>7</th>\n",
       "      <td>2016-03-16 18:55:19</td>\n",
       "      <td>Golf_IV_1.9_TDI_90PS</td>\n",
       "      <td>privat</td>\n",
       "      <td>Angebot</td>\n",
       "      <td>1990.0</td>\n",
       "      <td>control</td>\n",
       "      <td>limousine</td>\n",
       "      <td>1998</td>\n",
       "      <td>manuell</td>\n",
       "      <td>90</td>\n",
       "      <td>golf</td>\n",
       "      <td>150000.0</td>\n",
       "      <td>12</td>\n",
       "      <td>diesel</td>\n",
       "      <td>volkswagen</td>\n",
       "      <td>nein</td>\n",
       "      <td>2016-03-16 00:00:00</td>\n",
       "      <td>0</td>\n",
       "      <td>53474</td>\n",
       "      <td>2016-04-07 03:17:32</td>\n",
       "    </tr>\n",
       "    <tr>\n",
       "      <th>13</th>\n",
       "      <td>2016-03-23 10:48:32</td>\n",
       "      <td>Audi_A3_1.6_tuning</td>\n",
       "      <td>privat</td>\n",
       "      <td>Angebot</td>\n",
       "      <td>1350.0</td>\n",
       "      <td>control</td>\n",
       "      <td>limousine</td>\n",
       "      <td>1999</td>\n",
       "      <td>manuell</td>\n",
       "      <td>101</td>\n",
       "      <td>a3</td>\n",
       "      <td>150000.0</td>\n",
       "      <td>11</td>\n",
       "      <td>benzin</td>\n",
       "      <td>audi</td>\n",
       "      <td>nein</td>\n",
       "      <td>2016-03-23 00:00:00</td>\n",
       "      <td>0</td>\n",
       "      <td>12043</td>\n",
       "      <td>2016-04-01 14:17:13</td>\n",
       "    </tr>\n",
       "    <tr>\n",
       "      <th>17</th>\n",
       "      <td>2016-03-29 11:46:22</td>\n",
       "      <td>Volkswagen_Scirocco_2_G60</td>\n",
       "      <td>privat</td>\n",
       "      <td>Angebot</td>\n",
       "      <td>5500.0</td>\n",
       "      <td>test</td>\n",
       "      <td>coupe</td>\n",
       "      <td>1990</td>\n",
       "      <td>manuell</td>\n",
       "      <td>205</td>\n",
       "      <td>scirocco</td>\n",
       "      <td>150000.0</td>\n",
       "      <td>6</td>\n",
       "      <td>benzin</td>\n",
       "      <td>volkswagen</td>\n",
       "      <td>nein</td>\n",
       "      <td>2016-03-29 00:00:00</td>\n",
       "      <td>0</td>\n",
       "      <td>74821</td>\n",
       "      <td>2016-04-05 20:46:26</td>\n",
       "    </tr>\n",
       "    <tr>\n",
       "      <th>20</th>\n",
       "      <td>2016-03-05 19:57:31</td>\n",
       "      <td>Audi_A4_Avant_1.9_TDI_*6_Gang*AHK*Klimatronik*...</td>\n",
       "      <td>privat</td>\n",
       "      <td>Angebot</td>\n",
       "      <td>3500.0</td>\n",
       "      <td>test</td>\n",
       "      <td>kombi</td>\n",
       "      <td>2003</td>\n",
       "      <td>manuell</td>\n",
       "      <td>131</td>\n",
       "      <td>a4</td>\n",
       "      <td>150000.0</td>\n",
       "      <td>5</td>\n",
       "      <td>diesel</td>\n",
       "      <td>audi</td>\n",
       "      <td>NaN</td>\n",
       "      <td>2016-03-05 00:00:00</td>\n",
       "      <td>0</td>\n",
       "      <td>53913</td>\n",
       "      <td>2016-03-07 05:46:46</td>\n",
       "    </tr>\n",
       "    <tr>\n",
       "      <th>24</th>\n",
       "      <td>2016-04-03 11:57:02</td>\n",
       "      <td>BMW_535i_xDrive_Sport_Aut.</td>\n",
       "      <td>privat</td>\n",
       "      <td>Angebot</td>\n",
       "      <td>48500.0</td>\n",
       "      <td>control</td>\n",
       "      <td>limousine</td>\n",
       "      <td>2014</td>\n",
       "      <td>automatik</td>\n",
       "      <td>306</td>\n",
       "      <td>5er</td>\n",
       "      <td>30000.0</td>\n",
       "      <td>12</td>\n",
       "      <td>benzin</td>\n",
       "      <td>bmw</td>\n",
       "      <td>nein</td>\n",
       "      <td>2016-04-03 00:00:00</td>\n",
       "      <td>0</td>\n",
       "      <td>22547</td>\n",
       "      <td>2016-04-07 13:16:50</td>\n",
       "    </tr>\n",
       "    <tr>\n",
       "      <th>29</th>\n",
       "      <td>2016-04-02 12:45:44</td>\n",
       "      <td>Mercedes_Benz_E_320_T_CDI_Avantgarde_DPF7_Sitz...</td>\n",
       "      <td>privat</td>\n",
       "      <td>Angebot</td>\n",
       "      <td>4999.0</td>\n",
       "      <td>test</td>\n",
       "      <td>kombi</td>\n",
       "      <td>2004</td>\n",
       "      <td>automatik</td>\n",
       "      <td>204</td>\n",
       "      <td>e_klasse</td>\n",
       "      <td>150000.0</td>\n",
       "      <td>10</td>\n",
       "      <td>diesel</td>\n",
       "      <td>mercedes_benz</td>\n",
       "      <td>nein</td>\n",
       "      <td>2016-04-02 00:00:00</td>\n",
       "      <td>0</td>\n",
       "      <td>47638</td>\n",
       "      <td>2016-04-02 12:45:44</td>\n",
       "    </tr>\n",
       "    <tr>\n",
       "      <th>31</th>\n",
       "      <td>2016-03-14 16:53:09</td>\n",
       "      <td>Noch_gut_erhaltenen_C_320</td>\n",
       "      <td>privat</td>\n",
       "      <td>Angebot</td>\n",
       "      <td>2850.0</td>\n",
       "      <td>test</td>\n",
       "      <td>kombi</td>\n",
       "      <td>2002</td>\n",
       "      <td>automatik</td>\n",
       "      <td>218</td>\n",
       "      <td>c_klasse</td>\n",
       "      <td>150000.0</td>\n",
       "      <td>7</td>\n",
       "      <td>benzin</td>\n",
       "      <td>mercedes_benz</td>\n",
       "      <td>nein</td>\n",
       "      <td>2016-03-14 00:00:00</td>\n",
       "      <td>0</td>\n",
       "      <td>41065</td>\n",
       "      <td>2016-03-16 07:19:04</td>\n",
       "    </tr>\n",
       "  </tbody>\n",
       "</table>\n",
       "</div>"
      ],
      "text/plain": [
       "           date_crawled                                               name  \\\n",
       "1   2016-04-04 13:38:56         BMW_740i_4_4_Liter_HAMANN_UMBAU_Mega_Optik   \n",
       "2   2016-03-26 18:57:24                         Volkswagen_Golf_1.6_United   \n",
       "4   2016-04-01 14:38:50  Ford_Focus_1_6_Benzin_TÜV_neu_ist_sehr_gepfleg...   \n",
       "7   2016-03-16 18:55:19                               Golf_IV_1.9_TDI_90PS   \n",
       "13  2016-03-23 10:48:32                                 Audi_A3_1.6_tuning   \n",
       "17  2016-03-29 11:46:22                          Volkswagen_Scirocco_2_G60   \n",
       "20  2016-03-05 19:57:31  Audi_A4_Avant_1.9_TDI_*6_Gang*AHK*Klimatronik*...   \n",
       "24  2016-04-03 11:57:02                         BMW_535i_xDrive_Sport_Aut.   \n",
       "29  2016-04-02 12:45:44  Mercedes_Benz_E_320_T_CDI_Avantgarde_DPF7_Sitz...   \n",
       "31  2016-03-14 16:53:09                          Noch_gut_erhaltenen_C_320   \n",
       "\n",
       "    seller offer_type    price   abtest vehicle_type  registration_year  \\\n",
       "1   privat    Angebot   8500.0  control    limousine               1997   \n",
       "2   privat    Angebot   8990.0     test    limousine               2009   \n",
       "4   privat    Angebot   1350.0     test        kombi               2003   \n",
       "7   privat    Angebot   1990.0  control    limousine               1998   \n",
       "13  privat    Angebot   1350.0  control    limousine               1999   \n",
       "17  privat    Angebot   5500.0     test        coupe               1990   \n",
       "20  privat    Angebot   3500.0     test        kombi               2003   \n",
       "24  privat    Angebot  48500.0  control    limousine               2014   \n",
       "29  privat    Angebot   4999.0     test        kombi               2004   \n",
       "31  privat    Angebot   2850.0     test        kombi               2002   \n",
       "\n",
       "      gearbox  power_ps     model  odometer_km  registration_month fuel_type  \\\n",
       "1   automatik       286       7er     150000.0                   6    benzin   \n",
       "2     manuell       102      golf      70000.0                   7    benzin   \n",
       "4     manuell         0     focus     150000.0                   7    benzin   \n",
       "7     manuell        90      golf     150000.0                  12    diesel   \n",
       "13    manuell       101        a3     150000.0                  11    benzin   \n",
       "17    manuell       205  scirocco     150000.0                   6    benzin   \n",
       "20    manuell       131        a4     150000.0                   5    diesel   \n",
       "24  automatik       306       5er      30000.0                  12    benzin   \n",
       "29  automatik       204  e_klasse     150000.0                  10    diesel   \n",
       "31  automatik       218  c_klasse     150000.0                   7    benzin   \n",
       "\n",
       "            brand unrepaired_damage           ad_created  nr_of_pictures  \\\n",
       "1             bmw              nein  2016-04-04 00:00:00               0   \n",
       "2      volkswagen              nein  2016-03-26 00:00:00               0   \n",
       "4            ford              nein  2016-04-01 00:00:00               0   \n",
       "7      volkswagen              nein  2016-03-16 00:00:00               0   \n",
       "13           audi              nein  2016-03-23 00:00:00               0   \n",
       "17     volkswagen              nein  2016-03-29 00:00:00               0   \n",
       "20           audi               NaN  2016-03-05 00:00:00               0   \n",
       "24            bmw              nein  2016-04-03 00:00:00               0   \n",
       "29  mercedes_benz              nein  2016-04-02 00:00:00               0   \n",
       "31  mercedes_benz              nein  2016-03-14 00:00:00               0   \n",
       "\n",
       "    postal_code            last_seen  \n",
       "1         71034  2016-04-06 14:45:08  \n",
       "2         35394  2016-04-06 20:15:37  \n",
       "4         39218  2016-04-01 14:38:50  \n",
       "7         53474  2016-04-07 03:17:32  \n",
       "13        12043  2016-04-01 14:17:13  \n",
       "17        74821  2016-04-05 20:46:26  \n",
       "20        53913  2016-03-07 05:46:46  \n",
       "24        22547  2016-04-07 13:16:50  \n",
       "29        47638  2016-04-02 12:45:44  \n",
       "31        41065  2016-03-16 07:19:04  "
      ]
     },
     "execution_count": 27,
     "metadata": {},
     "output_type": "execute_result"
    }
   ],
   "source": [
    "autos_brand.head(10)"
   ]
  },
  {
   "cell_type": "code",
   "execution_count": 35,
   "metadata": {
    "collapsed": false
   },
   "outputs": [
    {
     "name": "stdout",
     "output_type": "stream",
     "text": [
      "Index(['volkswagen', 'bmw', 'mercedes_benz', 'audi', 'opel', 'ford'], dtype='object')\n"
     ]
    },
    {
     "data": {
      "text/plain": [
       "{'audi': 10200,\n",
       " 'bmw': 9055,\n",
       " 'ford': 5292,\n",
       " 'mercedes_benz': 9215,\n",
       " 'opel': 4177,\n",
       " 'volkswagen': 6556}"
      ]
     },
     "execution_count": 35,
     "metadata": {},
     "output_type": "execute_result"
    }
   ],
   "source": [
    "# Platform Answer\n",
    "\n",
    "brand_counts = autos[\"brand\"].value_counts(normalize=True)\n",
    "common_brands = brand_counts[brand_counts > .05].index\n",
    "print(common_brands)\n",
    "\n",
    "brand_mean_prices = {}\n",
    "\n",
    "for brand in common_brands:\n",
    "    brand_only = autos[autos[\"brand\"] == brand]\n",
    "    mean_price = brand_only[\"price\"].mean()\n",
    "    brand_mean_prices[brand] = int(mean_price)\n",
    "\n",
    "brand_mean_prices"
   ]
  },
  {
   "cell_type": "markdown",
   "metadata": {
    "collapsed": false
   },
   "source": [
    "#### Conclusion:\n",
    "In this project data cleaning and analysis is performed\n",
    "<br>\n",
    "\n",
    "1) Header rows is formated to snake case for easier label calling\n",
    "<br>\n",
    "2) Outlier in the price column is removed\n",
    "<br>\n",
    "3) Invalid years in the registration year is removed\n",
    "<br>\n",
    "4) date_crawled, ad_created and last_seen column converted to datetime values\n",
    "<br>\n",
    "5) Identified the brands with most listings and created a new dataframe with only those brands\n",
    "<br>\n",
    "6) Calcuated the mean prices and mean mileage of brands with most listings\n",
    "<br>\n",
    "\n",
    "Audi, BMW and Mercedes Benz is relatively more expensive that Ford, Opel and Volkswagen\n",
    "<br>\n",
    "Mileage is similar across all brands. Therefore the price of the more expensive brand does not offer value interms of mileage"
   ]
  }
 ],
 "metadata": {
  "kernelspec": {
   "display_name": "Python 3",
   "language": "python",
   "name": "python3"
  },
  "language_info": {
   "codemirror_mode": {
    "name": "ipython",
    "version": 3
   },
   "file_extension": ".py",
   "mimetype": "text/x-python",
   "name": "python",
   "nbconvert_exporter": "python",
   "pygments_lexer": "ipython3",
   "version": "3.4.3"
  }
 },
 "nbformat": 4,
 "nbformat_minor": 2
}
